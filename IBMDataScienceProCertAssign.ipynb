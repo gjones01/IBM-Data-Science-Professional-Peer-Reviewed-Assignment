{
  "metadata": {
    "kernelspec": {
      "name": "python",
      "display_name": "Python (Pyodide)",
      "language": "python"
    },
    "language_info": {
      "codemirror_mode": {
        "name": "python",
        "version": 3
      },
      "file_extension": ".py",
      "mimetype": "text/x-python",
      "name": "python",
      "nbconvert_exporter": "python",
      "pygments_lexer": "ipython3",
      "version": "3.8"
    }
  },
  "nbformat_minor": 5,
  "nbformat": 4,
  "cells": [
    {
      "id": "4e0ca5c9-2069-47a1-a67e-eb3926b14e45",
      "cell_type": "markdown",
      "source": "# Data Science Tools and Ecosystem #",
      "metadata": {}
    },
    {
      "id": "2701d0e2-3a11-4dc1-a17d-5ef062278e83",
      "cell_type": "markdown",
      "source": "**The tools and ecosystem for data science are going to be summarized in this notebook.**\n**Objections**\n- Ordered lists in MD\n- Basic arithmetic operations in Python\n- Single column tables in MD",
      "metadata": {}
    },
    {
      "id": "74002046-a786-4877-8abc-284b078d47ab",
      "cell_type": "markdown",
      "source": "#### The most common languages for data science include: ####\n1. R\n2. Python\n3. SQL (Structured Query Language)",
      "metadata": {}
    },
    {
      "id": "10313f7b-40da-4193-b9a2-62a4a2af3cda",
      "cell_type": "markdown",
      "source": "#### The most common data ascience libraries include: #### \n\n1. Pandas\n2. NumPy\n3. Scikit-Learn",
      "metadata": {}
    },
    {
      "id": "27dce434-9508-40e5-a38e-fe96ebcc1bcf",
      "cell_type": "markdown",
      "source": "| Data Science Tools |\n|--------------------|\n|JupyterLab          |\n|VS Code             |\n|Google Colab        |",
      "metadata": {}
    },
    {
      "id": "f046551e-cfa1-4c9e-a2c7-1af9038c18b7",
      "cell_type": "markdown",
      "source": "### Below are examples of arithmetic operations in Python. ###",
      "metadata": {}
    },
    {
      "id": "f8469bcb-e360-4c45-a9b6-e6653c01cc90",
      "cell_type": "code",
      "source": "(3 *4) + 5",
      "metadata": {
        "trusted": true
      },
      "outputs": [
        {
          "execution_count": 10,
          "output_type": "execute_result",
          "data": {
            "text/plain": "17"
          },
          "metadata": {}
        }
      ],
      "execution_count": 10
    },
    {
      "id": "20aa798b-8701-4c7e-99d1-2c04c7fa8daf",
      "cell_type": "code",
      "source": "minute = 200\nhr = 60\nconversion = minute / hr\nprint(minute, \"minutes converted to hours is\", conversion, \"hours\")",
      "metadata": {
        "trusted": true
      },
      "outputs": [
        {
          "name": "stdout",
          "output_type": "stream",
          "text": "200 minutes converted to hours is 3.3333333333333335 hours\n"
        }
      ],
      "execution_count": 11
    },
    {
      "id": "db6fdddb-03aa-4d93-88cd-b7fcd675efe7",
      "cell_type": "markdown",
      "source": "Author: Gerry Jones, Jr.",
      "metadata": {}
    },
    {
      "id": "3e28e383-e921-4ed2-bed2-83e990cbf5d5",
      "cell_type": "code",
      "source": "",
      "metadata": {
        "trusted": true
      },
      "outputs": [],
      "execution_count": null
    }
  ]
}